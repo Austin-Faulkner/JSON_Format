{
  "nbformat": 4,
  "nbformat_minor": 0,
  "metadata": {
    "colab": {
      "name": "CS4347_Assignment1_a_f408.ipynb",
      "provenance": [],
      "collapsed_sections": [],
      "include_colab_link": true
    },
    "kernelspec": {
      "name": "python3",
      "language": "python",
      "display_name": "Python 3"
    },
    "pycharm": {
      "stem_cell": {
        "cell_type": "raw",
        "source": [],
        "metadata": {
          "collapsed": false
        }
      }
    }
  },
  "cells": [
    {
      "cell_type": "markdown",
      "metadata": {
        "id": "view-in-github",
        "colab_type": "text"
      },
      "source": [
        "<a href=\"https://colab.research.google.com/github/Austin-Faulkner/JSON_Format/blob/master/CS4347_Assignment1_a_f408.ipynb\" target=\"_parent\"><img src=\"https://colab.research.google.com/assets/colab-badge.svg\" alt=\"Open In Colab\"/></a>"
      ]
    },
    {
      "cell_type": "markdown",
      "metadata": {
        "id": "8iwaee_T-Urj",
        "colab_type": "text"
      },
      "source": [
        "# Assignment 1 - Linear Regression\n",
        "> **FULL MARKS = 25*4 = 100**\n",
        "\n",
        "In this assignment, you are going to implement your own Simple Linear Regression function. Please notice no library versions of linear regression are allowed. Follow the instructions, you will need to fill the blanks to make it functional.\n",
        "\n",
        "> **Note**\n",
        "\n",
        "This assignment is adapted from the coursera online machine learning course. You can refer it here: https://www.coursera.org/learn/machine-learning\n",
        "\n",
        "**Some useful links**\n",
        "* loss functions: https://heartbeat.fritz.ai/5-regression-loss-functions-all-machine-learners-should-know-4fb140e9d4b0"
      ]
    },
    {
      "cell_type": "code",
      "metadata": {
        "id": "muBoDkj1iiSW",
        "colab_type": "code",
        "colab": {
          "base_uri": "https://localhost:8080/",
          "height": 70
        },
        "outputId": "32f40a03-c4f9-4bc4-a44d-c0476e00138b"
      },
      "source": [
        "from google.colab import drive\n",
        "\n",
        "drive.mount('/content/drive', force_remount=True)\n",
        "\n",
        "# enter the foldername in your Drive where you have saved the unzipped\n",
        "# 'cs4347' folder containing the '.py', 'classifiers' and 'datasets'\n",
        "# folders.\n",
        "# e.g. 'assignments/cs4347/'\n",
        "FOLDERNAME = 'ML/cs4347'\n",
        "\n",
        "assert FOLDERNAME is not None, \"[!] Enter the foldername.\"\n",
        "\n",
        "%cd drive/My\\ Drive\n",
        "%cp -r $FOLDERNAME ../../\n",
        "%cd ../../"
      ],
      "execution_count": 59,
      "outputs": [
        {
          "output_type": "stream",
          "text": [
            "Mounted at /content/drive\n",
            "/content/drive/My Drive\n",
            "/content\n"
          ],
          "name": "stdout"
        }
      ]
    },
    {
      "cell_type": "code",
      "metadata": {
        "pycharm": {
          "name": "#%%\n"
        },
        "id": "9Foim5FziPq9",
        "colab_type": "code",
        "colab": {}
      },
      "source": [
        "# load required library\n",
        "import matplotlib.pyplot as plt\n",
        "import numpy as np"
      ],
      "execution_count": 60,
      "outputs": []
    },
    {
      "cell_type": "markdown",
      "metadata": {
        "id": "TsgncCfbbllf",
        "colab_type": "text"
      },
      "source": [
        "Load data\n",
        "________\n",
        "\n",
        "This data contains two columns ['population','profit'], we are trying to predict the relationship between 'population','profit'.\n"
      ]
    },
    {
      "cell_type": "code",
      "metadata": {
        "pycharm": {
          "name": "#%%\n"
        },
        "id": "YcMTIN2_iPrC",
        "colab_type": "code",
        "colab": {}
      },
      "source": [
        "from cs4347.assignment_datasets import assign1\n",
        "data = assign1()"
      ],
      "execution_count": 61,
      "outputs": []
    },
    {
      "cell_type": "markdown",
      "metadata": {
        "collapsed": false,
        "pycharm": {
          "name": "#%% md\n"
        },
        "id": "fnMAVpoviPrF",
        "colab_type": "text"
      },
      "source": [
        "Visualize data\n",
        "___________"
      ]
    },
    {
      "cell_type": "code",
      "metadata": {
        "id": "RRGgsORxRcl0",
        "colab_type": "code",
        "colab": {
          "base_uri": "https://localhost:8080/",
          "height": 294
        },
        "outputId": "9bf97195-b0d6-4956-cc78-d7052ca94d0b"
      },
      "source": [
        "# draw the raw data plot\n",
        "def draw_data(data):\n",
        "    # parse data\n",
        "    x = data['population']\n",
        "    y = data['profit']\n",
        "\n",
        "    #########################################################################\n",
        "    # TODO:                                                                 #\n",
        "    # 1. make a scatter plot of the raw data                                #\n",
        "    # 2. set title for the plot                                             #\n",
        "    # 3. set label for x,y axis                                             #\n",
        "    # e.g.,                                                                 #\n",
        "    #https://matplotlib.org/3.2.0/api/_as_gen/matplotlib.pyplot.scatter.html#\n",
        "    #########################################################################\n",
        "\n",
        "    plt.scatter(x, y)\n",
        "    plt.title('raw data')\n",
        "    plt.xlabel('population')\n",
        "    plt.ylabel('profit')\n",
        "\n",
        "    #########################################################################\n",
        "    #                       END OF YOUR CODE                                #\n",
        "    #########################################################################\n",
        "\n",
        "    # return the plt object\n",
        "    return plt\n",
        "\n",
        "plt = draw_data(data)\n",
        "plt.show()"
      ],
      "execution_count": 62,
      "outputs": [
        {
          "output_type": "display_data",
          "data": {
            "image/png": "[encoded data removed]",
            "text/plain": [
              "<Figure size 432x288 with 1 Axes>"
            ]
          },
          "metadata": {
            "tags": [],
            "needs_background": "light"
          }
        }
      ]
    },
    {
      "cell_type": "markdown",
      "metadata": {
        "id": "vGTPJI1xi2JA",
        "colab_type": "text"
      },
      "source": [
        "Cost function / Loss function / Objective function\n",
        "___________\n",
        "Source: https://www.hackerearth.com/blog/developers/gradient-descent-algorithm-linear-regression/"
      ]
    },
    {
      "cell_type": "code",
      "metadata": {
        "pycharm": {
          "name": "#%%\n"
        },
        "id": "pdHuhEI3iPrL",
        "colab_type": "code",
        "colab": {}
      },
      "source": [
        "# define cost_function j\n",
        "def cost_function(theta, x, y):\n",
        "    #########################################################################\n",
        "    # TODO:                                                                 #\n",
        "    # 1. implement the L2 Loss function                                     #\n",
        "    # 2. Average the cost over the dataset size                             #\n",
        "    # Hint: Use numpy functions                                             #\n",
        "    #########################################################################\n",
        "    \n",
        "    m = len(y)\n",
        "    # formula for prediction = theta0 + theta1.x\n",
        "    predictions = x.dot(theta)   \n",
        "    # formula for square error = ((theta1.x + theta0) - y)**2\n",
        "    square_error = (predictions - y)**2\n",
        "    # sum of square error function\n",
        "    j = 1/(2*m) * np.sum(square_error)\n",
        "\n",
        "    #j = np.sum((x.dot(theta)) - y)**2) * (1 / (2*len(y)))\n",
        "   \n",
        "    #########################################################################\n",
        "    #                       END OF YOUR CODE                                #\n",
        "    #########################################################################\n",
        "  # return the cost\n",
        "    return j\n"
      ],
      "execution_count": 63,
      "outputs": []
    },
    {
      "cell_type": "markdown",
      "metadata": {
        "collapsed": false,
        "pycharm": {
          "name": "#%% md\n"
        },
        "id": "dN1ZmbRGiPrN",
        "colab_type": "text"
      },
      "source": [
        "Gradient descent:\n",
        "_________________\n",
        "Source: https://www.hackerearth.com/blog/developers/gradient-descent-algorithm-linear-regression/"
      ]
    },
    {
      "cell_type": "code",
      "metadata": {
        "id": "CZHtumgsCAkS",
        "colab_type": "code",
        "colab": {}
      },
      "source": [
        "# gradient descent function\n",
        "def gradient_descent(theta, x, y):\n",
        "    # define your learning_rate and epoch\n",
        "    lr = 0.01\n",
        "    epoch = 1000\n",
        "    \n",
        "    # define cost\n",
        "    cost = []\n",
        "    \n",
        "    # for loop\n",
        "    for i in range(epoch):\n",
        "        #####################################################################\n",
        "        # TODO:                                                             #\n",
        "        # 1. update theta using lr                                          #\n",
        "        # 2. append the updated cost to cost list                           #\n",
        "        # Hint: Use np.ravel to flatten arrays                              #\n",
        "        #####################################################################\n",
        "\n",
        "        theta = np.ravel(theta) \n",
        "        \n",
        "        grad_theta_naught = np.sum(x.dot(theta) - y) / len(y)\n",
        "        grad_theta_one = (np.sum((x.dot(theta) - y) * x[:,1])) / len(y)\n",
        "\n",
        "        theta[0] = theta[0] - lr * grad_theta_naught\n",
        "        theta[1] = theta[1] - lr * grad_theta_one\n",
        "\n",
        "        cost.append(cost_function(theta, x, y))\n",
        "        \n",
        "        #####################################################################\n",
        "        #                       END OF YOUR CODE                            #\n",
        "        #####################################################################\n",
        "        \n",
        "    # return updated theta and cost\n",
        "    return theta, cost"
      ],
      "execution_count": 64,
      "outputs": []
    },
    {
      "cell_type": "markdown",
      "metadata": {
        "id": "Kg7FO46ejHB6",
        "colab_type": "text"
      },
      "source": [
        "Visualiza cost\n",
        "_________"
      ]
    },
    {
      "cell_type": "code",
      "metadata": {
        "pycharm": {
          "name": "#%%\n"
        },
        "id": "6PEnZs2CiPrT",
        "colab_type": "code",
        "colab": {}
      },
      "source": [
        "# draw the cost for each iteration\n",
        "def draw_iteration(cost, epoch=1000):\n",
        "    #########################################################################\n",
        "    # TODO:                                                                 #\n",
        "    # 1. plot the cost for each iteration                                   #\n",
        "    # 2. set title and labels for the plot                                  #\n",
        "    # Hint: Use ply.plot function to plot and range(n)                      #\n",
        "    #########################################################################\n",
        "    \n",
        "    plt.xlabel('iteration')\n",
        "    plt.ylabel('cost')\n",
        "    plt.title('A plot of the cost function vs. epoch')\n",
        "\n",
        "    plt.plot(range(epoch), cost)\n",
        "      \n",
        "    #########################################################################\n",
        "    #                       END OF YOUR CODE                                #\n",
        "    #########################################################################\n",
        "    \n",
        "    # show plot\n",
        "    plt.show()"
      ],
      "execution_count": 65,
      "outputs": []
    },
    {
      "cell_type": "code",
      "metadata": {
        "id": "kJp--P0GCGUi",
        "colab_type": "code",
        "colab": {}
      },
      "source": [
        "# draw the simple linear regression model\n",
        "def draw_final(theta, data):\n",
        "    # draw the raw data first\n",
        "    plt = draw_data(data)\n",
        "    \n",
        "    # define range of x\n",
        "    x = np.arange(4,25,0.01)\n",
        "    # draw the straight line using the final version of theta\n",
        "    # y = a * x + b\n",
        "    y = theta[0] + x * theta[1]\n",
        "    \n",
        "    # make plot and show\n",
        "    plt.plot(x, y, c = 'r')\n",
        "    plt.title('final')\n",
        "    plt.show()"
      ],
      "execution_count": 66,
      "outputs": []
    },
    {
      "cell_type": "markdown",
      "metadata": {
        "id": "DhODHjN_ENk1",
        "colab_type": "text"
      },
      "source": [
        "Call function\n",
        "_____________"
      ]
    },
    {
      "cell_type": "code",
      "metadata": {
        "id": "IhwLvgBwCL1f",
        "colab_type": "code",
        "colab": {
          "base_uri": "https://localhost:8080/",
          "height": 957
        },
        "outputId": "3a990193-b373-4579-f70f-b69a74814985"
      },
      "source": [
        "# read the data\n",
        "# 'population','profit'\n",
        "data = assign1()\n",
        "# print head to check if data is correct\n",
        "print(data.head())\n",
        "\n",
        "# draw raw data\n",
        "plt = draw_data(data)\n",
        "plt.show()\n",
        "\n",
        "x = data['population']\n",
        "y = data['profit']\n",
        "x = np.c_[np.ones(x.size), x]\n",
        "# if you don't understand what does the function c_ do, try c_?\n",
        "# c_?\n",
        "\n",
        "# initialize theta\n",
        "theta = np.ones(x.shape[1])\n",
        "\n",
        "# calculate cost j by calling the function\n",
        "j = cost_function(theta, x, y)\n",
        "\n",
        "# gradient descent to find the optimal fit\n",
        "theta, cost = gradient_descent(theta, x, y)\n",
        "\n",
        "# draw the cost change for iterations\n",
        "draw_iteration(cost)\n",
        "\n",
        "# draw the final linear model\n",
        "# it is shown as a red line, you can change the color anyway\n",
        "draw_final(theta, data)"
      ],
      "execution_count": 67,
      "outputs": [
        {
          "output_type": "stream",
          "text": [
            "   population   profit\n",
            "0      6.1101  17.5920\n",
            "1      5.5277   9.1302\n",
            "2      8.5186  13.6620\n",
            "3      7.0032  11.8540\n",
            "4      5.8598   6.8233\n"
          ],
          "name": "stdout"
        },
        {
          "output_type": "display_data",
          "data": {
            "image/png": "[encoded data removed]",
            "text/plain": [
              "<Figure size 432x288 with 1 Axes>"
            ]
          },
          "metadata": {
            "tags": [],
            "needs_background": "light"
          }
        },
        {
          "output_type": "display_data",
          "data": {
            "image/png": "[encoded data removed]",
            "text/plain": [
              "<Figure size 432x288 with 1 Axes>"
            ]
          },
          "metadata": {
            "tags": [],
            "needs_background": "light"
          }
        },
        {
          "output_type": "display_data",
          "data": {
            "image/png": "[encoded data removed]",
            "text/plain": [
              "<Figure size 432x288 with 1 Axes>"
            ]
          },
          "metadata": {
            "tags": [],
            "needs_background": "light"
          }
        }
      ]
    }
  ]
}